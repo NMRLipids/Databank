{
 "cells": [
  {
   "cell_type": "code",
   "execution_count": 1,
   "metadata": {},
   "outputs": [],
   "source": [
    "import os\n",
    "import numpy as np\n",
    "import json\n",
    "import matplotlib.pyplot as plt\n",
    "import mdtraj\n",
    "import urllib.request\n",
    "import yaml\n",
    "import pprint\n",
    "#from OrderParameter import *\n",
    "\n",
    "# SAMULI: Also this should be maybe moved to the external code that will be imported\n",
    "# Download link\n",
    "def download_link(doi, file):\n",
    "    if \"zenodo\" in doi.lower():\n",
    "        zenodo_entry_number = doi.split(\".\")[2]\n",
    "        return 'https://zenodo.org/record/' + zenodo_entry_number + '/files/' + file\n",
    "    else:\n",
    "        print (\"DOI provided: {0}\".format(doi))\n",
    "        print (\"Repository not validated. Please upload the data for example to zenodo.org\")\n",
    "        return \"\""
   ]
  },
  {
   "cell_type": "code",
   "execution_count": 18,
   "metadata": {
    "scrolled": true
   },
   "outputs": [
    {
     "name": "stdout",
     "output_type": "stream",
     "text": [
      "Number of entries:  16\n",
      "Total size of trajectories:  71.46199576184154 Gb\n"
     ]
    },
    {
     "data": {
      "text/plain": [
       "Text(0, 0.5, 'Distribution')"
      ]
     },
     "execution_count": 18,
     "metadata": {},
     "output_type": "execute_result"
    },
    {
     "data": {
      "image/png": "[encoded data removed]",
      "text/plain": [
       "<Figure size 432x288 with 1 Axes>"
      ]
     },
     "metadata": {},
     "output_type": "display_data"
    },
    {
     "data": {
      "image/png": "[encoded data removed]",
      "text/plain": [
       "<Figure size 432x288 with 1 Axes>"
      ]
     },
     "metadata": {},
     "output_type": "display_data"
    },
    {
     "data": {
      "image/png": "[encoded data removed]",
      "text/plain": [
       "<Figure size 432x288 with 1 Axes>"
      ]
     },
     "metadata": {},
     "output_type": "display_data"
    }
   ],
   "source": [
    "# Demonstration of reading the databank\n",
    "# Currently lists some information on the simulations in the databank\n",
    "\n",
    "# List of lipids that will be analyzed\n",
    "lipids = {'POPC', 'POPG','POPE','POPS'} \n",
    "angles = []\n",
    "\n",
    "# This walks through the files in the databank\n",
    "# Dictionaries saved as README.yaml are read into 'readme' dictionary\n",
    "\n",
    "count = 0\n",
    "simL = []\n",
    "Natoms = []\n",
    "trjSIZE = []\n",
    "\n",
    "for subdir, dirs, files in os.walk(r'../../Data/Simulations/'):\n",
    "    for filename in files:\n",
    "        filepath = subdir + os.sep + filename\n",
    "        if filepath.endswith(\"README.yaml\"):\n",
    "            READMEfilepath = subdir + '/README.yaml'\n",
    "            with open(READMEfilepath) as yaml_file:\n",
    "                readme = yaml.load(yaml_file, Loader=yaml.FullLoader)\n",
    "                #print(subdir)\n",
    "                doi = readme.get('DOI')\n",
    "                trj = readme.get('TRJ')\n",
    "                tpr = readme.get('TPR')\n",
    "                trj_name = subdir + '/' + readme.get('TRJ')[0][0]\n",
    "                tpr_name = subdir + '/' + readme.get('TPR')[0][0]\n",
    "                gro_name = subdir + '/conf.gro'\n",
    "                trj_url = download_link(doi, trj[0][0])\n",
    "                tpr_url = download_link(doi, tpr[0][0])\n",
    "                EQtime=float(readme.get('TIMELEFTOUT'))*1000\n",
    "            \n",
    "                #print(readme)\n",
    "                count = count + 1\n",
    "                simL.append(readme.get('TRJLENGTH')*0.001)\n",
    "                if readme.get('NUMBER_OF_ATOMS'):\n",
    "                    Natoms.append(float(readme.get('NUMBER_OF_ATOMS')))\n",
    "                trjSIZE.append(readme.get('TRAJECTORY_SIZE')/(1024*1024*1024))\n",
    "                                \n",
    "print(\"Number of entries: \",count)\n",
    "print(\"Total size of trajectories: \",str(np.sum(trjSIZE)) + ' Gb')\n",
    "distSIMl = plt.hist(simL, density=True)\n",
    "plt.xlabel('Simulation length (ns)')\n",
    "plt.ylabel('Distribution')\n",
    "plt.figure()\n",
    "distNatoms = plt.hist(Natoms, density=True)\n",
    "plt.xlabel('Number of atoms in the system')\n",
    "plt.ylabel('Distribution')\n",
    "plt.figure()\n",
    "disttrjSIZE = plt.hist(trjSIZE, density=True)\n",
    "plt.xlabel('Size of the trajectory file (Gb)')\n",
    "plt.ylabel('Distribution')\n",
    "#print(simL)"
   ]
  },
  {
   "cell_type": "code",
   "execution_count": null,
   "metadata": {},
   "outputs": [],
   "source": []
  }
 ],
 "metadata": {
  "kernelspec": {
   "display_name": "Python 3",
   "language": "python",
   "name": "python3"
  },
  "language_info": {
   "codemirror_mode": {
    "name": "ipython",
    "version": 3
   },
   "file_extension": ".py",
   "mimetype": "text/x-python",
   "name": "python",
   "nbconvert_exporter": "python",
   "pygments_lexer": "ipython3",
   "version": "3.6.9"
  }
 },
 "nbformat": 4,
 "nbformat_minor": 4
}
