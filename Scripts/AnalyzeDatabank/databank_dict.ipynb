{
 "cells": [
  {
   "cell_type": "code",
   "execution_count": 194,
   "metadata": {},
   "outputs": [],
   "source": [
    "import os\n",
    "import sys\n",
    "import numpy as np\n",
    "import json\n",
    "import matplotlib.pyplot as plt\n",
    "import mdtraj\n",
    "import urllib.request\n",
    "import yaml\n",
    "    \n",
    "class databank():\n",
    "    \n",
    "    def __init__(self,path=r'../../Data/Simulations/'):\n",
    "        self.path = path\n",
    "        self.systems = []\n",
    "        self.__load_systems__(path)\n",
    "\n",
    "    def __load_systems__(self,path):\n",
    "        for subdir, dirs, files in os.walk(path):\n",
    "            for filename in files:\n",
    "                filepath = os.path.join(subdir, filename)\n",
    "                #print(filepath)\n",
    "                if filename == \"README.yaml\":\n",
    "                    with open(filepath) as yaml_file:\n",
    "                        content = yaml.load(yaml_file, Loader=yaml.FullLoader)\n",
    "                        content['path'] = filepath\n",
    "                        self.systems.append(content)\n",
    "                \n",
    "    def get_systems(self):\n",
    "        return self.systems\n",
    "    \n",
    "    def pie_temperature(self):\n",
    "        list_feature = [ int(float(system['TEMPERATURE'])) for system in self.systems]\n",
    "        import collections\n",
    "        counter = collections.Counter(list_feature)\n",
    "        plt.pie(counter.values(),labels=counter.keys(), normalize=True)\n"
   ]
  },
  {
   "cell_type": "code",
   "execution_count": 200,
   "metadata": {},
   "outputs": [],
   "source": [
    "path = '../../Data/Simulations/'\n",
    "db_data=databank(path)"
   ]
  },
  {
   "cell_type": "code",
   "execution_count": 201,
   "metadata": {
    "collapsed": true,
    "jupyter": {
     "outputs_hidden": true
    },
    "tags": []
   },
   "outputs": [
    {
     "data": {
      "text/plain": [
       "{'DOI': '10.5281/zenodo.3483787',\n",
       " 'SOFTWARE': 'gromacs',\n",
       " 'TRJ': [['run.wrapped.xtc']],\n",
       " 'TPR': [['step7_1.tpr']],\n",
       " 'PREEQTIME': 0,\n",
       " 'TIMELEFTOUT': 0,\n",
       " 'POPC': 'POPC',\n",
       " 'POPG': 'POPG',\n",
       " 'SOL': 'TIP3',\n",
       " 'POT': 'POT',\n",
       " 'MAPPING_DICT': {'POPC': 'mappingPOPCcharmm.txt',\n",
       "  'POPG': 'mappingPOPGcharmm.txt',\n",
       "  'SOL': 'mappingTIP3PCHARMMgui.txt',\n",
       "  'POT': 'mappingPOT.txt'},\n",
       " 'DIR_WRK': '/usr/home/bort/Databank',\n",
       " 'PUBLICATION': None,\n",
       " 'AUTHORS_CONTACT': 'Jesper J. Madsen',\n",
       " 'SYSTEM': '250POPC_250POPG_250POT_298K_119974Atoms',\n",
       " 'SOFTWARE_VERSION': None,\n",
       " 'FF': 'CHARMM36',\n",
       " 'FF_SOURCE': 'CHARMM-GUI v1.7',\n",
       " 'FF_DATE': None,\n",
       " 'CPT': None,\n",
       " 'LOG': None,\n",
       " 'TOP': [['topol.top']],\n",
       " 'TRAJECTORY_SIZE': 901173616,\n",
       " 'NPOPC': [125, 125],\n",
       " 'NPOPG': [125, 125],\n",
       " 'NPOPS': [0, 0],\n",
       " 'NPOPE': [0, 0],\n",
       " 'NDMPC': [0, 0],\n",
       " 'NDPPC': [0, 0],\n",
       " 'NPOPI': [0, 0],\n",
       " 'NSAPI': [0, 0],\n",
       " 'NSLPI': [0, 0],\n",
       " 'NCHOL': [0, 0],\n",
       " 'NDHMDMAB': [0, 0],\n",
       " 'NPOT': 250,\n",
       " 'NSOL': 18158,\n",
       " 'TEMPERATURE': '298',\n",
       " 'TRJLENGTH': 200100.0,\n",
       " 'NUMBER_OF_ATOMS': 119974,\n",
       " 'DATEOFRUNNING': '15/05/2021',\n",
       " 'EXPERIMENT': {},\n",
       " 'path': '../../Data/Simulations/6e5/059/6e50598ebc47c6e57f6d242896be41b8a18de9a6/1c4ab02a568cca02b0eedbdc6c52ea136c2f3c40/README.yaml'}"
      ]
     },
     "execution_count": 201,
     "metadata": {},
     "output_type": "execute_result"
    }
   ],
   "source": [
    "db_data.systems[0]"
   ]
  },
  {
   "cell_type": "code",
   "execution_count": 198,
   "metadata": {
    "collapsed": true,
    "jupyter": {
     "outputs_hidden": true
    },
    "tags": []
   },
   "outputs": [
    {
     "data": {
      "text/plain": [
       "{'DOI': '10.5281/zenodo.3483787',\n",
       " 'SOFTWARE': 'gromacs',\n",
       " 'TRJ': [['run.wrapped.xtc']],\n",
       " 'TPR': [['step7_1.tpr']],\n",
       " 'PREEQTIME': 0,\n",
       " 'TIMELEFTOUT': 0,\n",
       " 'POPC': 'POPC',\n",
       " 'POPG': 'POPG',\n",
       " 'SOL': 'TIP3',\n",
       " 'POT': 'POT',\n",
       " 'MAPPING_DICT': {'POPC': 'mappingPOPCcharmm.txt',\n",
       "  'POPG': 'mappingPOPGcharmm.txt',\n",
       "  'SOL': 'mappingTIP3PCHARMMgui.txt',\n",
       "  'POT': 'mappingPOT.txt'},\n",
       " 'DIR_WRK': '/usr/home/bort/Databank',\n",
       " 'PUBLICATION': None,\n",
       " 'AUTHORS_CONTACT': 'Jesper J. Madsen',\n",
       " 'SYSTEM': '250POPC_250POPG_250POT_298K_119974Atoms',\n",
       " 'SOFTWARE_VERSION': None,\n",
       " 'FF': 'CHARMM36',\n",
       " 'FF_SOURCE': 'CHARMM-GUI v1.7',\n",
       " 'FF_DATE': None,\n",
       " 'CPT': None,\n",
       " 'LOG': None,\n",
       " 'TOP': [['topol.top']],\n",
       " 'TRAJECTORY_SIZE': 901173616,\n",
       " 'NPOPC': [125, 125],\n",
       " 'NPOPG': [125, 125],\n",
       " 'NPOPS': [0, 0],\n",
       " 'NPOPE': [0, 0],\n",
       " 'NDMPC': [0, 0],\n",
       " 'NDPPC': [0, 0],\n",
       " 'NPOPI': [0, 0],\n",
       " 'NSAPI': [0, 0],\n",
       " 'NSLPI': [0, 0],\n",
       " 'NCHOL': [0, 0],\n",
       " 'NDHMDMAB': [0, 0],\n",
       " 'NPOT': 250,\n",
       " 'NSOL': 18158,\n",
       " 'TEMPERATURE': '298',\n",
       " 'TRJLENGTH': 200100.0,\n",
       " 'NUMBER_OF_ATOMS': 119974,\n",
       " 'DATEOFRUNNING': '15/05/2021',\n",
       " 'EXPERIMENT': {},\n",
       " 'path': '../../Data/Simulations/6e5/059/6e50598ebc47c6e57f6d242896be41b8a18de9a6/1c4ab02a568cca02b0eedbdc6c52ea136c2f3c40/README.yaml'}"
      ]
     },
     "execution_count": 198,
     "metadata": {},
     "output_type": "execute_result"
    }
   ],
   "source": [
    "systems = test.get_systems()\n",
    "systems[0]"
   ]
  },
  {
   "cell_type": "code",
   "execution_count": 207,
   "metadata": {},
   "outputs": [
    {
     "name": "stdout",
     "output_type": "stream",
     "text": [
      "('POPC', 'POPC') in ../../Data/Simulations/6e5/059/6e50598ebc47c6e57f6d242896be41b8a18de9a6/1c4ab02a568cca02b0eedbdc6c52ea136c2f3c40/README.yaml\n",
      "\n",
      "('NPOPC', [125, 125]) in ../../Data/Simulations/6e5/059/6e50598ebc47c6e57f6d242896be41b8a18de9a6/1c4ab02a568cca02b0eedbdc6c52ea136c2f3c40/README.yaml\n",
      "\n",
      "('NDMPC', [0, 0]) in ../../Data/Simulations/6e5/059/6e50598ebc47c6e57f6d242896be41b8a18de9a6/1c4ab02a568cca02b0eedbdc6c52ea136c2f3c40/README.yaml\n",
      "\n",
      "('NDPPC', [0, 0]) in ../../Data/Simulations/6e5/059/6e50598ebc47c6e57f6d242896be41b8a18de9a6/1c4ab02a568cca02b0eedbdc6c52ea136c2f3c40/README.yaml\n",
      "\n",
      "{'DOI': '10.5281/zenodo.3483787', 'SOFTWARE': 'gromacs', 'TRJ': [['run.wrapped.xtc']], 'TPR': [['step7_1.tpr']], 'PREEQTIME': 0, 'TIMELEFTOUT': 0, 'POPC': 'POPC', 'POPG': 'POPG', 'SOL': 'TIP3', 'POT': 'POT', 'MAPPING_DICT': {'POPC': 'mappingPOPCcharmm.txt', 'POPG': 'mappingPOPGcharmm.txt', 'SOL': 'mappingTIP3PCHARMMgui.txt', 'POT': 'mappingPOT.txt'}, 'DIR_WRK': '/usr/home/bort/Databank', 'PUBLICATION': None, 'AUTHORS_CONTACT': 'Jesper J. Madsen', 'SYSTEM': '250POPC_250POPG_250POT_298K_119974Atoms', 'SOFTWARE_VERSION': None, 'FF': 'CHARMM36', 'FF_SOURCE': 'CHARMM-GUI v1.7', 'FF_DATE': None, 'CPT': None, 'LOG': None, 'TOP': [['topol.top']], 'TRAJECTORY_SIZE': 901173616, 'NPOPC': [125, 125], 'NPOPG': [125, 125], 'NPOPS': [0, 0], 'NPOPE': [0, 0], 'NDMPC': [0, 0], 'NDPPC': [0, 0], 'NPOPI': [0, 0], 'NSAPI': [0, 0], 'NSLPI': [0, 0], 'NCHOL': [0, 0], 'NDHMDMAB': [0, 0], 'NPOT': 250, 'NSOL': 18158, 'TEMPERATURE': '298', 'TRJLENGTH': 200100.0, 'NUMBER_OF_ATOMS': 119974, 'DATEOFRUNNING': '15/05/2021', 'EXPERIMENT': {}, 'path': '../../Data/Simulations/6e5/059/6e50598ebc47c6e57f6d242896be41b8a18de9a6/1c4ab02a568cca02b0eedbdc6c52ea136c2f3c40/README.yaml'}\n"
     ]
    }
   ],
   "source": [
    "for system in systems:\n",
    "    for feature in system.items():\n",
    "        if \"PC\" in feature[0]:\n",
    "            if feature[0][0] != 0:\n",
    "                print(f\"{feature} in {system['path']}\\n\")\n",
    "    print(system)\n",
    "    break\n",
    "        "
   ]
  },
  {
   "cell_type": "code",
   "execution_count": 202,
   "metadata": {},
   "outputs": [
    {
     "data": {
      "image/png": "[encoded data removed]",
      "text/plain": [
       "<Figure size 432x288 with 1 Axes>"
      ]
     },
     "metadata": {},
     "output_type": "display_data"
    }
   ],
   "source": [
    "db_data.pie_temperature()"
   ]
  },
  {
   "cell_type": "code",
   "execution_count": 97,
   "metadata": {},
   "outputs": [
    {
     "ename": "TypeError",
     "evalue": "'databank' object is not iterable",
     "output_type": "error",
     "traceback": [
      "\u001b[0;31m---------------------------------------------------------------------------\u001b[0m",
      "\u001b[0;31mTypeError\u001b[0m                                 Traceback (most recent call last)",
      "\u001b[0;32m/tmp/ipykernel_26086/1615314894.py\u001b[0m in \u001b[0;36m<module>\u001b[0;34m\u001b[0m\n\u001b[0;32m----> 1\u001b[0;31m \u001b[0mtemps\u001b[0m \u001b[0;34m=\u001b[0m \u001b[0;34m[\u001b[0m \u001b[0mint\u001b[0m\u001b[0;34m(\u001b[0m\u001b[0mfloat\u001b[0m\u001b[0;34m(\u001b[0m\u001b[0msystem\u001b[0m\u001b[0;34m[\u001b[0m\u001b[0;34m'TEMPERATURE'\u001b[0m\u001b[0;34m]\u001b[0m\u001b[0;34m)\u001b[0m\u001b[0;34m)\u001b[0m \u001b[0;32mfor\u001b[0m \u001b[0msystem\u001b[0m \u001b[0;32min\u001b[0m \u001b[0msystems\u001b[0m\u001b[0;34m]\u001b[0m\u001b[0;34m\u001b[0m\u001b[0;34m\u001b[0m\u001b[0m\n\u001b[0m",
      "\u001b[0;31mTypeError\u001b[0m: 'databank' object is not iterable"
     ]
    }
   ],
   "source": [
    "temps = [ int(float(system['TEMPERATURE'])) for system in systems]"
   ]
  },
  {
   "cell_type": "code",
   "execution_count": null,
   "metadata": {},
   "outputs": [],
   "source": [
    "import collections\n",
    "counter = collections.Counter(temps)\n",
    "plt.pie(counter.values(),labels=counter.keys());"
   ]
  },
  {
   "cell_type": "code",
   "execution_count": null,
   "metadata": {},
   "outputs": [],
   "source": [
    "\n",
    "lipids = [PC,PG, PS, PE, PI]\n"
   ]
  }
 ],
 "metadata": {
  "kernelspec": {
   "display_name": "Python 3 (ipykernel)",
   "language": "python",
   "name": "python3"
  },
  "language_info": {
   "codemirror_mode": {
    "name": "ipython",
    "version": 3
   },
   "file_extension": ".py",
   "mimetype": "text/x-python",
   "name": "python",
   "nbconvert_exporter": "python",
   "pygments_lexer": "ipython3",
   "version": "3.9.6"
  }
 },
 "nbformat": 4,
 "nbformat_minor": 4
}
