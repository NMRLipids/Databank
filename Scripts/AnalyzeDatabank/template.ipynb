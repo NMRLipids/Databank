{
 "cells": [
  {
   "cell_type": "code",
   "execution_count": 5,
   "metadata": {},
   "outputs": [
    {
     "name": "stdout",
     "output_type": "stream",
     "text": [
      "Databank initialized from the folder: /home/comcon1/repo/Databank/Data/Simulations\n"
     ]
    }
   ],
   "source": [
    "import os\n",
    "import sys\n",
    "import numpy as np\n",
    "import json\n",
    "import matplotlib.pyplot as plt\n",
    "import urllib.request\n",
    "import yaml\n",
    "from IPython.display import display\n",
    "\n",
    "from DatabankLib.core import initialize_databank, print_README\n",
    "from DatabankLib.databankLibrary import *\n",
    "\n",
    "systems = initialize_databank()"
   ]
  },
  {
   "cell_type": "code",
   "execution_count": 6,
   "metadata": {
    "scrolled": true
   },
   "outputs": [
    {
     "data": {
      "text/plain": [
       "System(408): 543/ab3/543ab3c1266ace288f9b39ed561851dfcbf5746d/fa7f266129d60fe835af632f66de4d1cd594b5e5/"
      ]
     },
     "metadata": {},
     "output_type": "display_data"
    },
    {
     "name": "stdout",
     "output_type": "stream",
     "text": [
      "\u001b[1mAUTHORS_CONTACT:\u001b[0m\n",
      "  Ollila, O. H. S.\n",
      "\u001b[1mFF_DATE:\u001b[0m\n",
      "  None\n",
      "\u001b[1mSYSTEM:\u001b[0m\n",
      "  110POPC_22POPS_4965SOL_61SOD_39CLA_298K\n",
      "\u001b[1mTYPEOFSYSTEM:\u001b[0m\n",
      "  lipid bilayer\n",
      "\u001b[1mTEMPERATURE:\u001b[0m\n",
      "  298.0\n",
      "\u001b[1mPUBLICATION:\u001b[0m\n",
      "  None\n",
      "\u001b[1mNUMBER_OF_ATOMS:\u001b[0m\n",
      "  32529\n",
      "\u001b[1mEXPERIMENT:\u001b[0m\n",
      "  {'ORDERPARAMETER': {'POPS': {}, 'POPC': {}}, 'FORMFACTOR': {}}\n",
      "\u001b[1mFF_SOURCE:\u001b[0m\n",
      "  CHARMM-GUI v1.7\n",
      "\u001b[1mCOMPOSITION:\u001b[0m\n",
      "  {'POPS': {'NAME': 'POPS', 'COUNT': [11, 11], 'MAPPING': 'mappingPOPScharmm.yaml'}, 'CLA': {'NAME': 'CLA', 'COUNT': 39, 'MAPPING': 'mappingCLA.yaml'}, 'POPC': {'NAME': 'POPC', 'COUNT': [55, 55], 'MAPPING': 'mappingPOPCcharmm.yaml'}, 'SOL': {'NAME': 'TIP3', 'COUNT': 4965, 'MAPPING': 'mappingTIP3PCHARMMgui.yaml'}, 'SOD': {'NAME': 'SOD', 'COUNT': 61, 'MAPPING': 'mappingSOD.yaml'}}\n",
      "\u001b[1mTIMELEFTOUT:\u001b[0m\n",
      "  50\n",
      "\u001b[1mCPT:\u001b[0m\n",
      "  None\n",
      "\u001b[1mTRJLENGTH:\u001b[0m\n",
      "  200010.0\n",
      "\u001b[1mTRAJECTORY_SIZE:\u001b[0m\n",
      "  15617100816\n",
      "\u001b[1mSOFTWARE_VERSION:\u001b[0m\n",
      "  None\n",
      "\u001b[1mFF:\u001b[0m\n",
      "  CHARMM36\n",
      "\u001b[1mTOP:\u001b[0m\n",
      "  [['topol.top']]\n",
      "\u001b[1mPREEQTIME:\u001b[0m\n",
      "  0\n",
      "\u001b[1mDOI:\u001b[0m\n",
      "  10.5281/zenodo.1493190\n",
      "\u001b[1mDATEOFRUNNING:\u001b[0m\n",
      "  04/10/2021\n",
      "\u001b[1mTPR:\u001b[0m\n",
      "  [['run.tpr']]\n",
      "\u001b[1mTRJ:\u001b[0m\n",
      "  [['run.trr']]\n",
      "\u001b[1mLOG:\u001b[0m\n",
      "  None\n",
      "\u001b[1mSOFTWARE:\u001b[0m\n",
      "  gromacs\n",
      "\u001b[1mDIR_WRK:\u001b[0m\n",
      "  /media/osollila/Data/tmp/DATABANK/\n",
      "\u001b[1mID:\u001b[0m\n",
      "  408\n",
      "\u001b[1mpath:\u001b[0m\n",
      "  543/ab3/543ab3c1266ace288f9b39ed561851dfcbf5746d/fa7f266129d60fe835af632f66de4d1cd594b5e5/\n"
     ]
    },
    {
     "data": {
      "text/plain": [
       "System(649): 10c/727/10c727d1f06ad18d5a0676014c67fce3b3a4131d/3872a01e1e1fdd5d211474a565fcd9b11830e372/"
      ]
     },
     "metadata": {},
     "output_type": "display_data"
    },
    {
     "name": "stdout",
     "output_type": "stream",
     "text": [
      "\u001b[1mDOI:\u001b[0m\n",
      "  10.5281/zenodo.6943929\n",
      "\u001b[1mSOFTWARE:\u001b[0m\n",
      "  gromacs\n",
      "\u001b[1mTRJ:\u001b[0m\n",
      "  [['CHOL13_large.xtc']]\n",
      "\u001b[1mTPR:\u001b[0m\n",
      "  [['CHOL13_large.tpr']]\n",
      "\u001b[1mPREEQTIME:\u001b[0m\n",
      "  0\n",
      "\u001b[1mTIMELEFTOUT:\u001b[0m\n",
      "  0\n",
      "\u001b[1mCOMPOSITION:\u001b[0m\n",
      "  {'DOPC': {'NAME': 'DOPC', 'MAPPING': 'mappingDOPCcharmm.yaml', 'COUNT': [512, 512]}, 'CHOL': {'NAME': 'CHL1', 'MAPPING': 'mappingCHOLESTEROLcharmm.yaml', 'COUNT': [208, 208]}, 'SOL': {'NAME': 'TIP3', 'MAPPING': 'mappingTIP3PCHARMMgui.yaml', 'COUNT': 72000}}\n",
      "\u001b[1mDIR_WRK:\u001b[0m\n",
      "  /home/lara/Databank\n",
      "\u001b[1mPUBLICATION:\u001b[0m\n",
      "  None\n",
      "\u001b[1mAUTHORS_CONTACT:\u001b[0m\n",
      "  Javanainen, Matti\n",
      "\u001b[1mSYSTEM:\u001b[0m\n",
      "  1024DOPC_416CHOL_72000SOL_333K\n",
      "\u001b[1mSOFTWARE_VERSION:\u001b[0m\n",
      "  None\n",
      "\u001b[1mFF:\u001b[0m\n",
      "  CHARMM36\n",
      "\u001b[1mFF_SOURCE:\u001b[0m\n",
      "  CHARMM-GUI\n",
      "\u001b[1mFF_DATE:\u001b[0m\n",
      "  None\n",
      "\u001b[1mCPT:\u001b[0m\n",
      "  [['CHOL13_large.cpt']]\n",
      "\u001b[1mLOG:\u001b[0m\n",
      "  None\n",
      "\u001b[1mTOP:\u001b[0m\n",
      "  [['CHOL13_large.top']]\n",
      "\u001b[1mGRO:\u001b[0m\n",
      "  [['CHOL13_large.gro']]\n",
      "\u001b[1mTRAJECTORY_SIZE:\u001b[0m\n",
      "  1451704668\n",
      "\u001b[1mTRJLENGTH:\u001b[0m\n",
      "  1001000.0\n",
      "\u001b[1mTEMPERATURE:\u001b[0m\n",
      "  333.15\n",
      "\u001b[1mNUMBER_OF_ATOMS:\u001b[0m\n",
      "  388096\n",
      "\u001b[1mDATEOFRUNNING:\u001b[0m\n",
      "  20/09/2022\n",
      "\u001b[1mTYPEOFSYSTEM:\u001b[0m\n",
      "  lipid bilayer\n",
      "\u001b[1mID:\u001b[0m\n",
      "  649\n",
      "\u001b[1mEXPERIMENT:\u001b[0m\n",
      "  {'ORDERPARAMETER': {'DOPC': {}, 'CHOL': {}}, 'FORMFACTOR': {}}\n",
      "\u001b[1mpath:\u001b[0m\n",
      "  10c/727/10c727d1f06ad18d5a0676014c67fce3b3a4131d/3872a01e1e1fdd5d211474a565fcd9b11830e372/\n"
     ]
    },
    {
     "data": {
      "text/plain": [
       "System(586): 138/f70/138f7086835a989159b9451f34668b197c0879ad/6eda577f480bda5448c5a5c57ad5c45097241816/"
      ]
     },
     "metadata": {},
     "output_type": "display_data"
    },
    {
     "name": "stdout",
     "output_type": "stream",
     "text": [
      "\u001b[1mDOI:\u001b[0m\n",
      "  10.5281/zenodo.1293957\n",
      "\u001b[1mSOFTWARE:\u001b[0m\n",
      "  gromacs\n",
      "\u001b[1mTRJ:\u001b[0m\n",
      "  [['md_DPPE_CKP_new_NH3_PME_verlet_v2_100-500ns.xtc']]\n",
      "\u001b[1mTPR:\u001b[0m\n",
      "  [['for-md_DPPE_CKP_new_NH3_PME_verlet_v2.tpr']]\n",
      "\u001b[1mPREEQTIME:\u001b[0m\n",
      "  100\n",
      "\u001b[1mTIMELEFTOUT:\u001b[0m\n",
      "  0\n",
      "\u001b[1mUNITEDATOM_DICT:\u001b[0m\n",
      "  {'DPPE': 'GROMOSCKP_DPPE'}\n",
      "\u001b[1mCOMPOSITION:\u001b[0m\n",
      "  {'DPPE': {'NAME': 'DPPE', 'MAPPING': 'mappingDPPEGROMOS-CKP.yaml', 'COUNT': [64, 64]}, 'SOL': {'NAME': 'SOL', 'MAPPING': 'mappingSPCwater.yaml', 'COUNT': 3655}}\n",
      "\u001b[1mDIR_WRK:\u001b[0m\n",
      "  /home/lara/Databank\n",
      "\u001b[1mPUBLICATION:\u001b[0m\n",
      "  None\n",
      "\u001b[1mAUTHORS_CONTACT:\u001b[0m\n",
      "  Thomas Piggot\n",
      "\u001b[1mSYSTEM:\u001b[0m\n",
      "  128DPPE_3655SOL_342K_GROMOS-CKP_v2\n",
      "\u001b[1mSOFTWARE_VERSION:\u001b[0m\n",
      "  5.0.6\n",
      "\u001b[1mFF:\u001b[0m\n",
      "  GROMOS-CKP\n",
      "\u001b[1mFF_SOURCE:\u001b[0m\n",
      "  https://pubs.acs.org/doi/abs/10.1021/jp207013v\n",
      "\u001b[1mFF_DATE:\u001b[0m\n",
      "  None\n",
      "\u001b[1mCPT:\u001b[0m\n",
      "  None\n",
      "\u001b[1mLOG:\u001b[0m\n",
      "  None\n",
      "\u001b[1mTOP:\u001b[0m\n",
      "  None\n",
      "\u001b[1mGRO:\u001b[0m\n",
      "  [['md_DPPE_CKP_new_NH3_PME_verlet_v2.gro']]\n",
      "\u001b[1mTRAJECTORY_SIZE:\u001b[0m\n",
      "  5165793708\n",
      "\u001b[1mTRJLENGTH:\u001b[0m\n",
      "  400005.0\n",
      "\u001b[1mTEMPERATURE:\u001b[0m\n",
      "  342.0\n",
      "\u001b[1mNUMBER_OF_ATOMS:\u001b[0m\n",
      "  17365\n",
      "\u001b[1mDATEOFRUNNING:\u001b[0m\n",
      "  06/05/2022\n",
      "\u001b[1mTYPEOFSYSTEM:\u001b[0m\n",
      "  lipid bilayer\n",
      "\u001b[1mEXPERIMENT:\u001b[0m\n",
      "  {'ORDERPARAMETER': {'DPPE': {}}, 'FORMFACTOR': {}}\n",
      "\u001b[1mID:\u001b[0m\n",
      "  586\n",
      "\u001b[1mpath:\u001b[0m\n",
      "  138/f70/138f7086835a989159b9451f34668b197c0879ad/6eda577f480bda5448c5a5c57ad5c45097241816/\n"
     ]
    },
    {
     "data": {
      "text/plain": [
       "System(293): 9a7/003/9a700315b567dea72fe8509c0d33481ba2a49075/a4e20018c3970fd47f3fb93ac5be709892261c09/"
      ]
     },
     "metadata": {},
     "output_type": "display_data"
    },
    {
     "name": "stdout",
     "output_type": "stream",
     "text": [
      "\u001b[1mDOI:\u001b[0m\n",
      "  10.5281/zenodo.14976\n",
      "\u001b[1mSOFTWARE:\u001b[0m\n",
      "  gromacs\n",
      "\u001b[1mTRJ:\u001b[0m\n",
      "  [['200mM_50ns_100ps.xtc']]\n",
      "\u001b[1mTPR:\u001b[0m\n",
      "  [['200.tpr']]\n",
      "\u001b[1mPREEQTIME:\u001b[0m\n",
      "  40\n",
      "\u001b[1mTIMELEFTOUT:\u001b[0m\n",
      "  0\n",
      "\u001b[1mCOMPOSITION:\u001b[0m\n",
      "  {'POPC': {'NAME': 'POPC', 'MAPPING': 'mappingPOPCMaciejewskiRog1.yaml', 'COUNT': [144, 144]}, 'SOL': {'NAME': 'SOL', 'MAPPING': 'mappingSPCwater.yaml', 'COUNT': 14500}, 'SOD': {'NAME': 'NA', 'MAPPING': 'mappingNA.yaml', 'COUNT': 54}, 'CLA': {'NAME': 'CL', 'MAPPING': 'mappingCL.yaml', 'COUNT': 54}}\n",
      "\u001b[1mDIR_WRK:\u001b[0m\n",
      "  /usr/home/bort/Databank\n",
      "\u001b[1mPUBLICATION:\u001b[0m\n",
      "  None\n",
      "\u001b[1mAUTHORS_CONTACT:\u001b[0m\n",
      "  Javanainen, Matti; Tynkkynen, Joona\n",
      "\u001b[1mSYSTEM:\u001b[0m\n",
      "  288POPC_14500SOL_54SOD_54CLA_298K\n",
      "\u001b[1mSOFTWARE_VERSION:\u001b[0m\n",
      "  4.5\n",
      "\u001b[1mFF:\u001b[0m\n",
      "  MacRog\n",
      "\u001b[1mFF_SOURCE:\u001b[0m\n",
      "  None\n",
      "\u001b[1mFF_DATE:\u001b[0m\n",
      "  None\n",
      "\u001b[1mCPT:\u001b[0m\n",
      "  None\n",
      "\u001b[1mLOG:\u001b[0m\n",
      "  None\n",
      "\u001b[1mTOP:\u001b[0m\n",
      "  None\n",
      "\u001b[1mTRAJECTORY_SIZE:\u001b[0m\n",
      "  151702732\n",
      "\u001b[1mTRJLENGTH:\u001b[0m\n",
      "  50100.0\n",
      "\u001b[1mTEMPERATURE:\u001b[0m\n",
      "  298.0\n",
      "\u001b[1mNUMBER_OF_ATOMS:\u001b[0m\n",
      "  82200\n",
      "\u001b[1mDATEOFRUNNING:\u001b[0m\n",
      "  17/01/2022\n",
      "\u001b[1mTYPEOFSYSTEM:\u001b[0m\n",
      "  lipid bilayer\n",
      "\u001b[1mEXPERIMENT:\u001b[0m\n",
      "  {'ORDERPARAMETER': {'POPC': {}}, 'FORMFACTOR': {}}\n",
      "\u001b[1mID:\u001b[0m\n",
      "  293\n",
      "\u001b[1mpath:\u001b[0m\n",
      "  9a7/003/9a700315b567dea72fe8509c0d33481ba2a49075/a4e20018c3970fd47f3fb93ac5be709892261c09/\n"
     ]
    }
   ],
   "source": [
    "c = 0\n",
    "for system in systems:\n",
    "    if c>3:\n",
    "        break\n",
    "    display(system)\n",
    "\n",
    "    print_README(system)\n",
    "    c+=1"
   ]
  },
  {
   "cell_type": "code",
   "execution_count": null,
   "metadata": {},
   "outputs": [],
   "source": []
  }
 ],
 "metadata": {
  "kernelspec": {
   "display_name": "databankdev",
   "language": "python",
   "name": "python3"
  },
  "language_info": {
   "codemirror_mode": {
    "name": "ipython",
    "version": 3
   },
   "file_extension": ".py",
   "mimetype": "text/x-python",
   "name": "python",
   "nbconvert_exporter": "python",
   "pygments_lexer": "ipython3",
   "version": "3.10.16"
  }
 },
 "nbformat": 4,
 "nbformat_minor": 4
}
