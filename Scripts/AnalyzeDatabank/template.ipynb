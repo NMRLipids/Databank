{
 "cells": [
  {
   "cell_type": "code",
   "execution_count": 8,
   "metadata": {},
   "outputs": [
    {
     "name": "stdout",
     "output_type": "stream",
     "text": [
      "Databank initialized from the folder: /big/comcon1/repo/Databank/Data/Simulations\n"
     ]
    }
   ],
   "source": [
    "import os\n",
    "import sys\n",
    "import numpy as np\n",
    "import json\n",
    "import matplotlib.pyplot as plt\n",
    "import urllib.request\n",
    "import yaml\n",
    "from IPython.display import display\n",
    "\n",
    "\n",
    "sys.path.append('..')\n",
    "from DatabankLib.databankLibrary import lipids_dict, databank\n",
    "\n",
    "path = '../../Data/Simulations/'\n",
    "db_data = databank(path)\n",
    "systems = db_data.get_systems()"
   ]
  },
  {
   "cell_type": "code",
   "execution_count": 10,
   "metadata": {
    "scrolled": true
   },
   "outputs": [
    {
     "data": {
      "text/plain": [
       "{'DOI': '10.5281/zenodo.1293889',\n",
       " 'SOFTWARE': 'gromacs',\n",
       " 'TRJ': [['md-POPE_berger_303K_repH_v1_100-200ns.xtc']],\n",
       " 'TPR': [['for-md-POPE_berger_303K_repH_v1.tpr']],\n",
       " 'PREEQTIME': 100,\n",
       " 'TIMELEFTOUT': 0,\n",
       " 'UNITEDATOM_DICT': {'POPE': 'Berger_POPE'},\n",
       " 'COMPOSITION': {'POPE': {'NAME': 'POPE',\n",
       "   'MAPPING': 'mappingPOPEberger.yaml',\n",
       "   'COUNT': [64, 64]},\n",
       "  'SOL': {'NAME': 'SOL', 'MAPPING': 'mappingSPCwater.yaml', 'COUNT': 3552}},\n",
       " 'DIR_WRK': '/home/lara/Databank',\n",
       " 'PUBLICATION': None,\n",
       " 'AUTHORS_CONTACT': 'Thomas Piggot',\n",
       " 'SYSTEM': '128POPE_3552SOL_303K_v1',\n",
       " 'SOFTWARE_VERSION': '4.0.7',\n",
       " 'FF': 'Berger-POPE-2004',\n",
       " 'FF_SOURCE': 'starting structure from equilibrated POPE membrane simulated with the GROMOS-CKP force field, PE parameters https://pubs.acs.org/doi/abs/10.1021/jp0366926',\n",
       " 'FF_DATE': None,\n",
       " 'CPT': None,\n",
       " 'LOG': None,\n",
       " 'TOP': None,\n",
       " 'GRO': [['md-POPE_berger_303K_repH_v1.gro']],\n",
       " 'TRAJECTORY_SIZE': 637677756,\n",
       " 'TRJLENGTH': 100010.0,\n",
       " 'TEMPERATURE': 303.0,\n",
       " 'NUMBER_OF_ATOMS': 17312,\n",
       " 'DATEOFRUNNING': '27/03/2022',\n",
       " 'TYPEOFSYSTEM': 'lipid bilayer',\n",
       " 'EXPERIMENT': {'ORDERPARAMETER': {'POPE': {}}, 'FORMFACTOR': {}},\n",
       " 'ID': 236,\n",
       " 'path': '004/eb6/004eb6c414eca4dd73398e7b7218d8961c950b70/21fe6e771571ea659f629e3d2943006de7ff0dde/'}"
      ]
     },
     "metadata": {},
     "output_type": "display_data"
    },
    {
     "data": {
      "text/plain": [
       "{'AUTHORS_CONTACT': 'Javanainen, Matti',\n",
       " 'FF_DATE': None,\n",
       " 'SYSTEM': '22CHOL_200POPC_9000SOL_310K',\n",
       " 'TYPEOFSYSTEM': 'lipid bilayer',\n",
       " 'TEMPERATURE': 310.15,\n",
       " 'PUBLICATION': None,\n",
       " 'NUMBER_OF_ATOMS': 55428,\n",
       " 'EXPERIMENT': {'ORDERPARAMETER': {'CHOL': {}, 'POPC': {}}, 'FORMFACTOR': {}},\n",
       " 'FF_SOURCE': 'CHARMM-GUI',\n",
       " 'COMPOSITION': {'CHOL': {'NAME': 'CHL1',\n",
       "   'COUNT': [10, 12],\n",
       "   'MAPPING': 'mappingCHOLESTEROLcharmm.yaml'},\n",
       "  'POPC': {'NAME': 'POPC',\n",
       "   'COUNT': [100, 100],\n",
       "   'MAPPING': 'mappingPOPCcharmm.yaml'},\n",
       "  'SOL': {'NAME': 'TIP3',\n",
       "   'COUNT': 9000,\n",
       "   'MAPPING': 'mappingTIP3PCHARMMgui.yaml'}},\n",
       " 'TIMELEFTOUT': 0,\n",
       " 'CPT': [['chol10_500ns.cpt']],\n",
       " 'TRJLENGTH': 500100.0,\n",
       " 'TRAJECTORY_SIZE': 1025713704,\n",
       " 'SOFTWARE_VERSION': 5.0,\n",
       " 'FF': 'CHARMM36',\n",
       " 'TOP': [['chol10.top']],\n",
       " 'PREEQTIME': 0,\n",
       " 'DOI': '10.5281/zenodo.3237420',\n",
       " 'DATEOFRUNNING': '05/10/2021',\n",
       " 'TPR': [['chol10.tpr']],\n",
       " 'TRJ': [['chol10_500ns.xtc']],\n",
       " 'LOG': None,\n",
       " 'SOFTWARE': 'gromacs',\n",
       " 'DIR_WRK': '/media/osollila/Data/tmp/DATABANK/',\n",
       " 'ID': 345,\n",
       " 'path': '006/559/006559139e730fc43b244726992145c2f37a1461/3c99810c45a83b4ba0e54a69fdea8817498a8930/'}"
      ]
     },
     "metadata": {},
     "output_type": "display_data"
    },
    {
     "data": {
      "text/plain": [
       "{'AUTHORS_CONTACT': 'Javanainen, Matti',\n",
       " 'FF_DATE': 'pre-2020',\n",
       " 'SYSTEM': '200POPC_9000SOL_81SOD_81CLA_310K',\n",
       " 'TYPEOFSYSTEM': 'lipid bilayer',\n",
       " 'TEMPERATURE': 310.0,\n",
       " 'PUBLICATION': None,\n",
       " 'NUMBER_OF_ATOMS': 53962,\n",
       " 'EXPERIMENT': {'ORDERPARAMETER': {'POPC': {}}, 'FORMFACTOR': {}},\n",
       " 'FF_SOURCE': 'http://mmkluster.fos.su.se/slipids/ and https://bitbucket.org/hseara/ions/',\n",
       " 'COMPOSITION': {'CLA': {'NAME': 'CL',\n",
       "   'COUNT': 81,\n",
       "   'MAPPING': 'mappingCL.yaml'},\n",
       "  'POPC': {'NAME': 'POPC',\n",
       "   'COUNT': [100, 100],\n",
       "   'MAPPING': 'mappingPOPCslipids.yaml'},\n",
       "  'SOL': {'NAME': 'SOL',\n",
       "   'COUNT': 9000,\n",
       "   'MAPPING': 'mappingTIP3PwaterSlipids.yaml'},\n",
       "  'SOD': {'NAME': 'NA', 'COUNT': 81, 'MAPPING': 'mappingNA.yaml'}},\n",
       " 'TIMELEFTOUT': 0,\n",
       " 'CPT': None,\n",
       " 'TRJLENGTH': 100100.0,\n",
       " 'TRAJECTORY_SIZE': 199059704,\n",
       " 'SOFTWARE_VERSION': 4.6,\n",
       " 'FF': 'Slipids for lipids, Kohagen for NaCl',\n",
       " 'TOP': [['500.top']],\n",
       " 'PREEQTIME': 0,\n",
       " 'DOI': '10.5281/zenodo.35193',\n",
       " 'DATEOFRUNNING': '12/10/2021',\n",
       " 'TPR': [['500.tpr']],\n",
       " 'TRJ': [['500.xtc']],\n",
       " 'LOG': None,\n",
       " 'SOFTWARE': 'gromacs',\n",
       " 'DIR_WRK': '/usr/home/bort/Databank',\n",
       " 'ID': 511,\n",
       " 'path': '007/494/007494777cfaf4a3bbaf66335df4b9aa48c990e0/542f342c6c9c1b0647bcb98de53be96d5af4b505/'}"
      ]
     },
     "metadata": {},
     "output_type": "display_data"
    },
    {
     "data": {
      "text/plain": [
       "{'AUTHORS_CONTACT': 'Ollila',\n",
       " 'FF_DATE': None,\n",
       " 'SYSTEM': '200POPC_9000SOL_313K',\n",
       " 'TYPEOFSYSTEM': 'lipid bilayer',\n",
       " 'TEMPERATURE': 313.0,\n",
       " 'PUBLICATION': None,\n",
       " 'NUMBER_OF_ATOMS': 53800,\n",
       " 'EXPERIMENT': {'ORDERPARAMETER': {'POPC': {}},\n",
       "  'FORMFACTOR': '10.1016/j.bbamem.2011.07.022/11'},\n",
       " 'FF_SOURCE': None,\n",
       " 'COMPOSITION': {'POPC': {'NAME': 'POPC',\n",
       "   'COUNT': [100, 100],\n",
       "   'MAPPING': 'mappingPOPCcharmm.yaml'},\n",
       "  'SOL': {'NAME': 'TIP3',\n",
       "   'COUNT': 9000,\n",
       "   'MAPPING': 'mappingTIP3PCHARMMgui.yaml'}},\n",
       " 'TIMELEFTOUT': 20,\n",
       " 'CPT': [['run.cpt']],\n",
       " 'TRJLENGTH': 200010.0,\n",
       " 'TRAJECTORY_SIZE': 3979765856,\n",
       " 'SOFTWARE_VERSION': 5,\n",
       " 'FF': 'CHARMM36',\n",
       " 'TOP': [['topol.top']],\n",
       " 'PREEQTIME': 0,\n",
       " 'DOI': '10.5281/zenodo.4040423',\n",
       " 'DATEOFRUNNING': '01/10/2021',\n",
       " 'TPR': [['run.tpr']],\n",
       " 'TRJ': [['run.xtc']],\n",
       " 'LOG': [['run.log']],\n",
       " 'SOFTWARE': 'gromacs',\n",
       " 'DIR_WRK': '/media/osollila/Data/tmp/DATABANK/',\n",
       " 'ID': 512,\n",
       " 'path': '007/ed1/007ed172073ee268b07f29ecd413eb9de13a3d47/895cd634e9106b949e0c15cd8873592748b66fed/'}"
      ]
     },
     "metadata": {},
     "output_type": "display_data"
    }
   ],
   "source": [
    "c = 0\n",
    "for system in systems:\n",
    "    if c>3:\n",
    "        break\n",
    "    display(system)\n",
    "    c+=1"
   ]
  },
  {
   "cell_type": "code",
   "execution_count": null,
   "metadata": {},
   "outputs": [],
   "source": []
  }
 ],
 "metadata": {
  "kernelspec": {
   "display_name": "Python 3.10 (mdana)",
   "language": "python",
   "name": "mdana"
  },
  "language_info": {
   "codemirror_mode": {
    "name": "ipython",
    "version": 3
   },
   "file_extension": ".py",
   "mimetype": "text/x-python",
   "name": "python",
   "nbconvert_exporter": "python",
   "pygments_lexer": "ipython3",
   "version": "3.10.11"
  }
 },
 "nbformat": 4,
 "nbformat_minor": 4
}
