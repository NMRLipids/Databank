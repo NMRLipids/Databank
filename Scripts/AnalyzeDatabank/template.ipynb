{
 "cells": [
  {
   "cell_type": "code",
   "execution_count": 1,
   "metadata": {},
   "outputs": [],
   "source": [
    "import os\n",
    "import numpy as np\n",
    "import json\n",
    "import matplotlib.pyplot as plt\n",
    "import mdtraj\n",
    "import urllib.request\n",
    "import yaml\n",
    "import pprint\n",
    "from OrderParameter import *\n",
    "\n",
    "# SAMULI: Also this should be maybe moved to the external code that will be imported\n",
    "# Download link\n",
    "def download_link(doi, file):\n",
    "    if \"zenodo\" in doi.lower():\n",
    "        zenodo_entry_number = doi.split(\".\")[2]\n",
    "        return 'https://zenodo.org/record/' + zenodo_entry_number + '/files/' + file\n",
    "    else:\n",
    "        print (\"DOI provided: {0}\".format(doi))\n",
    "        print (\"Repository not validated. Please upload the data for example to zenodo.org\")\n",
    "        return \"\""
   ]
  },
  {
   "cell_type": "code",
   "execution_count": 2,
   "metadata": {
    "scrolled": true
   },
   "outputs": [
    {
     "name": "stdout",
     "output_type": "stream",
     "text": [
      "{'TIMELEFTOUT': '100', 'TPR': [['POPC_20CHL.tpr']], 'NCHOL': [12, 12], 'MAPPING': 'POPC,mappingPOPCcharmm.txt,CHOL,mappingCHOLESTEROLcharmm.txt', 'POPE': 'POPE', 'NPOT': 0, 'CHOL': 'CHL1', 'POPS': 'POPS', 'NPOPE': [0, 0], 'DOI': '10.5281/zenodo.14067', 'CLA': 'CL', 'POT': 'K', 'POPC': 'POPC', 'FF_DATE': '??', 'GRO': '/media/osollila/Data/tmp/DATABANK/tmp_6-247361/0/conf.gro', 'NPOPS': [0, 0], 'MAPPING_DICT': {'POPC': 'mappingPOPCcharmm.txt', 'CHOL': 'mappingCHOLESTEROLcharmm.txt'}, 'SOFTWARE': 'gromacs', 'NPOPC': [50, 50], 'FF_SOURCE': '??', 'NPOPG': [0, 0], 'SYSTEM': 'POPC20%chol_T303K', 'NSOD': 0, 'NCLA': 0, 'NCAL': 0, 'TRJLENGTH': 200020.0, 'NDHMDMAB': [0, 0], 'POPG': 'POPG', 'SOD': 'NA', 'NSOL': 4960, 'ID': 0, 'TRJ': [['POPC_20CHL.xtc']], 'SOL': 'SOL', 'CAL': 'CA', 'PREEQTIME': '0', 'FF': 'CHARMM36', 'TEMPERATURE': '303'}\n",
      "303\n",
      "{'TIMELEFTOUT': '100', 'TPR': [['POPC_50CHL.tpr']], 'NCHOL': [40, 40], 'MAPPING': 'POPC,mappingPOPCcharmm.txt,CHOL,mappingCHOLESTEROLcharmm.txt', 'POPE': 'POPE', 'NPOT': 0, 'CHOL': 'CHL1', 'POPS': 'POPS', 'NPOPE': [0, 0], 'DOI': '10.5281/zenodo.14068', 'CLA': 'CL', 'POT': 'K', 'POPC': 'POPC', 'FF_DATE': '??', 'GRO': '/media/osollila/Data/tmp/DATABANK/tmp_6-421160/0/conf.gro', 'NPOPS': [0, 0], 'MAPPING_DICT': {'POPC': 'mappingPOPCcharmm.txt', 'CHOL': 'mappingCHOLESTEROLcharmm.txt'}, 'SOFTWARE': 'gromacs', 'NPOPC': [40, 40], 'FF_SOURCE': '??', 'NPOPG': [0, 0], 'SYSTEM': 'POPC50%chol_T303K', 'NSOD': 0, 'NCLA': 0, 'NCAL': 0, 'TRJLENGTH': 200020.0, 'NDHMDMAB': [0, 0], 'POPG': 'POPG', 'SOD': 'NA', 'NSOL': 4496, 'ID': 0, 'TRJ': [['POPC_50CHL.xtc']], 'SOL': 'SOL', 'CAL': 'CA', 'PREEQTIME': '0', 'FF': 'CHARMM36', 'TEMPERATURE': '303'}\n",
      "303\n"
     ]
    }
   ],
   "source": [
    "# Demonstration of reading the databank\n",
    "# Currently lists some information on the simulations in the databank\n",
    "\n",
    "# List of lipids that will be analyzed\n",
    "lipids = {'POPC', 'POPG','POPE','POPS'} \n",
    "angles = []\n",
    "\n",
    "# This walks through the files in the databank\n",
    "# Dictionaries saved as README.yaml are read into 'readme' dictionary\n",
    "\n",
    "count = 0\n",
    "\n",
    "for subdir, dirs, files in os.walk(r'../Data/Simulations/'):\n",
    "    for filename in files:\n",
    "        filepath = subdir + os.sep + filename\n",
    "        if filepath.endswith(\"README.yaml\"):\n",
    "            READMEfilepath = subdir + '/README.yaml'\n",
    "            with open(READMEfilepath) as yaml_file:\n",
    "                readme = yaml.load(yaml_file, Loader=yaml.FullLoader)\n",
    "                #for molname in lipids:\n",
    "                doi = readme.get('DOI')\n",
    "                trj = readme.get('TRJ')\n",
    "                tpr = readme.get('TPR')\n",
    "                trj_name = subdir + '/' + readme.get('TRJ')[0][0]\n",
    "                tpr_name = subdir + '/' + readme.get('TPR')[0][0]\n",
    "                gro_name = subdir + '/conf.gro'\n",
    "                trj_url = download_link(doi, trj[0][0])\n",
    "                tpr_url = download_link(doi, tpr[0][0])\n",
    "                EQtime=float(readme.get('TIMELEFTOUT'))*1000\n",
    "                \n",
    "                #if('CHARMM' in readme.get('FF')):\n",
    "                #    print(lipids[0])\n",
    "\n",
    "                #print(readme.get('SYSTEM'),readme.get('FF'),readme.get('NCAL'))\n",
    "                \n",
    "                \n",
    "                #if(readme.get('NPOPC')[0] > 0 or readme.get('NPOPG')[0] > 0 ):\n",
    "                #    print(2*readme.get('NPOPC')[0],2*readme.get('NPOPG')[0],readme.get('TEMPERATURE'),readme.get('FF'))\n",
    "                #    count = count + 1\n",
    "                #    print(count)\n",
    "                    \n",
    "                if(readme.get('NCHOL')[0] > 0):\n",
    "                    print(readme)\n",
    "                    print(readme.get('TEMPERATURE'))"
   ]
  },
  {
   "cell_type": "code",
   "execution_count": null,
   "metadata": {},
   "outputs": [],
   "source": []
  }
 ],
 "metadata": {
  "kernelspec": {
   "display_name": "Python 3",
   "language": "python",
   "name": "python3"
  },
  "language_info": {
   "codemirror_mode": {
    "name": "ipython",
    "version": 3
   },
   "file_extension": ".py",
   "mimetype": "text/x-python",
   "name": "python",
   "nbconvert_exporter": "python",
   "pygments_lexer": "ipython3",
   "version": "3.5.2"
  }
 },
 "nbformat": 4,
 "nbformat_minor": 4
}
